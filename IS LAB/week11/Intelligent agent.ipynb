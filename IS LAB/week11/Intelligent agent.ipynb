{
 "cells": [
  {
   "cell_type": "code",
   "execution_count": 4,
   "metadata": {
    "id": "xF2I19GzXyoU"
   },
   "outputs": [],
   "source": [
    "# This code simulates a Simple Reflex Vacuum-Cleaner Agent based on the provided sources.\n",
    "\n",
    "def reflex_vacuum_agent(percept):\n",
    "    \"\"\"\n",
    "    Implements the logic of the Simple Reflex Vacuum-Cleaner Agent.\n",
    "\n",
    "    Args:\n",
    "        percept: A tuple representing the current percept from the environment.\n",
    "                 Expected format: (location, status), e.g., ('A', 'Clean')\n",
    "\n",
    "    Returns:\n",
    "        An action based on the current percept.\n",
    "        Possible actions: 'Clean', 'Right', 'Left', 'NoOp'\n",
    "    \"\"\"\n",
    "    location, status = percept # The agent receives the current percept [1]\n",
    "\n",
    "    # The agent selects actions based only on the current percept [3]\n",
    "    # This logic directly follows the program described in the sources [2]\n",
    "    if status == 'Dirty':\n",
    "        # If the current location is Dirty, the agent's action is 'Clean' [2]\n",
    "        print(f\"Percept: {percept} -> Action: Clean\")\n",
    "        return 'Clean'\n",
    "    elif location == 'A':\n",
    "        # If the current location is 'A' and not Dirty, the agent moves 'Right' [2]\n",
    "        print(f\"Percept: {percept} -> Action: Right\")\n",
    "        return 'Right'\n",
    "    elif location == 'B':\n",
    "        # If the current location is 'B' and not Dirty, the agent moves 'Left' [2]\n",
    "        print(f\"Percept: {percept} -> Action: Left\")\n",
    "        return 'Left'\n",
    "    else:\n",
    "        # Handle unexpected percepts or indicate no action needed (e.g., already clean and at an edge)\n",
    "        # Note: The source table provides specific examples [2], this 'else' is a safeguard.\n",
    "        print(f\"Percept: {percept} -> Action: NoOp (unexpected state)\")\n",
    "        return 'NoOp'\n",
    "\n"
   ]
  },
  {
   "cell_type": "code",
   "execution_count": 5,
   "metadata": {
    "colab": {
     "base_uri": "https://localhost:8080/"
    },
    "id": "Gb6lFbctX22C",
    "outputId": "e60bc590-8270-4ecf-ab16-938f019da6dd"
   },
   "outputs": [
    {
     "name": "stdout",
     "output_type": "stream",
     "text": [
      "--- Simulating Vacuum Agent ---\n",
      "Percept: ('A', 'Dirty') -> Action: Clean\n",
      "Percept: ('A', 'Dirty') -> Action: Clean\n",
      "Percept: ('A', 'Clean') -> Action: Right\n",
      "Percept: ('A', 'Clean') -> Action: Right\n",
      "Percept: ('B', 'Clean') -> Action: Left\n",
      "Percept: ('B', 'Clean') -> Action: Left\n",
      "Percept: ('B', 'Dirty') -> Action: Clean\n",
      "Percept: ('B', 'Dirty') -> Action: Clean\n",
      "Percept: ('B', 'Clean') -> Action: Left\n",
      "Percept: ('B', 'Clean') -> Action: Left\n",
      "Percept: ('A', 'Clean') -> Action: Right\n",
      "Percept: ('A', 'Clean') -> Action: Right\n"
     ]
    }
   ],
   "source": [
    "# --- Example Usage ---\n",
    "# Simulate the agent's behavior based on different percepts mentioned in the source [2]\n",
    "\n",
    "print(\"--- Simulating Vacuum Agent ---\")\n",
    "\n",
    "seq = [('A', 'Dirty'), ('A', 'Clean'), ('B', 'Clean'), ('B', 'Dirty'), ('B', 'Clean'), ('A', 'Clean')]\n",
    "\n",
    "for percept in seq:\n",
    "    t = reflex_vacuum_agent(percept)\n",
    "    print(f\"Percept: {percept} -> Action: {t}\")"
   ]
  },
  {
   "cell_type": "code",
   "execution_count": null,
   "metadata": {},
   "outputs": [],
   "source": []
  },
  {
   "cell_type": "code",
   "execution_count": null,
   "metadata": {},
   "outputs": [],
   "source": []
  }
 ],
 "metadata": {
  "colab": {
   "provenance": []
  },
  "kernelspec": {
   "display_name": "Python 3 (ipykernel)",
   "language": "python",
   "name": "python3"
  },
  "language_info": {
   "codemirror_mode": {
    "name": "ipython",
    "version": 3
   },
   "file_extension": ".py",
   "mimetype": "text/x-python",
   "name": "python",
   "nbconvert_exporter": "python",
   "pygments_lexer": "ipython3",
   "version": "3.12.3"
  }
 },
 "nbformat": 4,
 "nbformat_minor": 4
}
