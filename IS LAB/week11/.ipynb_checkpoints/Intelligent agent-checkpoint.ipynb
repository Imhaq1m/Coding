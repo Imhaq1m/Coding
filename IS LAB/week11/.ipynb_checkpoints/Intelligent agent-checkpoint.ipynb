{
  "nbformat": 4,
  "nbformat_minor": 0,
  "metadata": {
    "colab": {
      "provenance": []
    },
    "kernelspec": {
      "name": "python3",
      "display_name": "Python 3"
    },
    "language_info": {
      "name": "python"
    }
  },
  "cells": [
    {
      "cell_type": "code",
      "execution_count": 1,
      "metadata": {
        "id": "xF2I19GzXyoU"
      },
      "outputs": [],
      "source": [
        "# This code simulates a Simple Reflex Vacuum-Cleaner Agent based on the provided sources.\n",
        "\n",
        "def reflex_vacuum_agent(percept):\n",
        "    \"\"\"\n",
        "    Implements the logic of the Simple Reflex Vacuum-Cleaner Agent.\n",
        "\n",
        "    Args:\n",
        "        percept: A tuple representing the current percept from the environment.\n",
        "                 Expected format: (location, status), e.g., ('A', 'Clean')\n",
        "\n",
        "    Returns:\n",
        "        An action based on the current percept.\n",
        "        Possible actions: 'Clean', 'Right', 'Left', 'NoOp'\n",
        "    \"\"\"\n",
        "    location, status = percept # The agent receives the current percept [1]\n",
        "\n",
        "    # The agent selects actions based only on the current percept [3]\n",
        "    # This logic directly follows the program described in the sources [2]\n",
        "    if status == 'Dirty':\n",
        "        # If the current location is Dirty, the agent's action is 'Clean' [2]\n",
        "        print(f\"Percept: {percept} -> Action: Clean\")\n",
        "        return 'Clean'\n",
        "    elif location == 'A':\n",
        "        # If the current location is 'A' and not Dirty, the agent moves 'Right' [2]\n",
        "        print(f\"Percept: {percept} -> Action: Right\")\n",
        "        return 'Right'\n",
        "    elif location == 'B':\n",
        "        # If the current location is 'B' and not Dirty, the agent moves 'Left' [2]\n",
        "        print(f\"Percept: {percept} -> Action: Left\")\n",
        "        return 'Left'\n",
        "    else:\n",
        "        # Handle unexpected percepts or indicate no action needed (e.g., already clean and at an edge)\n",
        "        # Note: The source table provides specific examples [2], this 'else' is a safeguard.\n",
        "        print(f\"Percept: {percept} -> Action: NoOp (unexpected state)\")\n",
        "        return 'NoOp'\n",
        "\n"
      ]
    },
    {
      "cell_type": "code",
      "source": [
        "# --- Example Usage ---\n",
        "# Simulate the agent's behavior based on different percepts mentioned in the source [2]\n",
        "\n",
        "print(\"--- Simulating Vacuum Agent ---\")\n",
        "\n",
        "# Example 1: Location A, Clean\n",
        "agent_action_1 = reflex_vacuum_agent(('A', 'Clean')) # Based on row 1 in source table [2]\n",
        "\n",
        "# Example 2: Location A, Dirty\n",
        "agent_action_2 = reflex_vacuum_agent(('A', 'Dirty')) # Based on row 2 in source table [2]\n",
        "\n",
        "# Example 3: Location B, Clean\n",
        "agent_action_3 = reflex_vacuum_agent(('B', 'Clean')) # Based on row 3 in source table [2]\n",
        "\n",
        "# Example 4: Location B, Dirty\n",
        "agent_action_4 = reflex_vacuum_agent(('B', 'Dirty')) # Based on row 4 in source table [2]\n",
        "\n",
        "# The source also shows examples with percept sequences, but the Simple Reflex Agent\n",
        "# *ignores* the percept history and only considers the current percept [3].\n",
        "# So, the action for [A, Clean], [A, Clean] is the same as for [A, Clean] [2].\n",
        "# And the action for [A, Clean], [A, Dirty] is the same as for [A, Dirty] [2].\n",
        "\n",
        "print(\"\\n--- Simulating with history (Simple Reflex ignores history) ---\")\n",
        "# Agent receives percept [A, Clean]\n",
        "print(\"Receiving percept ('A', 'Clean')...\")\n",
        "agent_action_5 = reflex_vacuum_agent(('A', 'Clean'))\n",
        "\n",
        "# Agent receives subsequent percept [A, Dirty]\n",
        "print(\"Receiving percept ('A', 'Dirty')...\")\n",
        "agent_action_6 = reflex_vacuum_agent(('A', 'Dirty'))"
      ],
      "metadata": {
        "colab": {
          "base_uri": "https://localhost:8080/"
        },
        "id": "Gb6lFbctX22C",
        "outputId": "e60bc590-8270-4ecf-ab16-938f019da6dd"
      },
      "execution_count": 2,
      "outputs": [
        {
          "output_type": "stream",
          "name": "stdout",
          "text": [
            "--- Simulating Vacuum Agent ---\n",
            "Percept: ('A', 'Clean') -> Action: Right\n",
            "Percept: ('A', 'Dirty') -> Action: Clean\n",
            "Percept: ('B', 'Clean') -> Action: Left\n",
            "Percept: ('B', 'Dirty') -> Action: Clean\n",
            "\n",
            "--- Simulating with history (Simple Reflex ignores history) ---\n",
            "Receiving percept ('A', 'Clean')...\n",
            "Percept: ('A', 'Clean') -> Action: Right\n",
            "Receiving percept ('A', 'Dirty')...\n",
            "Percept: ('A', 'Dirty') -> Action: Clean\n"
          ]
        }
      ]
    }
  ]
}